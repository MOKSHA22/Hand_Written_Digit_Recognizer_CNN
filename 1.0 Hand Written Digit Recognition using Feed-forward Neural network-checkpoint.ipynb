{
 "cells": [
  {
   "cell_type": "code",
   "execution_count": 1,
   "metadata": {},
   "outputs": [
    {
     "name": "stderr",
     "output_type": "stream",
     "text": [
      "Using TensorFlow backend.\n"
     ]
    }
   ],
   "source": [
    "from keras.datasets import mnist"
   ]
  },
  {
   "cell_type": "code",
   "execution_count": 2,
   "metadata": {},
   "outputs": [],
   "source": [
    "(train_data, train_target),(test_data,test_target)=mnist.load_data()"
   ]
  },
  {
   "cell_type": "code",
   "execution_count": 3,
   "metadata": {},
   "outputs": [],
   "source": [
    "from keras.models import Sequential"
   ]
  },
  {
   "cell_type": "code",
   "execution_count": 4,
   "metadata": {},
   "outputs": [],
   "source": [
    "from keras.layers import Dense"
   ]
  },
  {
   "cell_type": "code",
   "execution_count": 5,
   "metadata": {},
   "outputs": [],
   "source": [
    "from keras.layers import Flatten"
   ]
  },
  {
   "cell_type": "code",
   "execution_count": 6,
   "metadata": {},
   "outputs": [],
   "source": [
    "model=Sequential()"
   ]
  },
  {
   "cell_type": "code",
   "execution_count": 8,
   "metadata": {},
   "outputs": [],
   "source": [
    "model.add(Flatten(input_shape=(28,28)))"
   ]
  },
  {
   "cell_type": "code",
   "execution_count": 9,
   "metadata": {},
   "outputs": [
    {
     "name": "stdout",
     "output_type": "stream",
     "text": [
      "Model: \"sequential_1\"\n",
      "_________________________________________________________________\n",
      "Layer (type)                 Output Shape              Param #   \n",
      "=================================================================\n",
      "flatten_1 (Flatten)          (None, 784)               0         \n",
      "_________________________________________________________________\n",
      "dense_1 (Dense)              (None, 512)               401920    \n",
      "_________________________________________________________________\n",
      "dense_2 (Dense)              (None, 256)               131328    \n",
      "_________________________________________________________________\n",
      "dense_3 (Dense)              (None, 128)               32896     \n",
      "_________________________________________________________________\n",
      "dense_4 (Dense)              (None, 10)                1290      \n",
      "=================================================================\n",
      "Total params: 567,434\n",
      "Trainable params: 567,434\n",
      "Non-trainable params: 0\n",
      "_________________________________________________________________\n"
     ]
    }
   ],
   "source": [
    "model.add(Dense(512,activation='relu'))\n",
    "model.add(Dense(256,activation='relu'))\n",
    "model.add(Dense(128,activation='relu'))\n",
    "model.add(Dense(10,activation='softmax'))\n",
    "\n",
    "model.compile(loss='categorical_crossentropy',optimizer='adam',metrics=['accuracy'])\n",
    "model.summary()"
   ]
  },
  {
   "cell_type": "code",
   "execution_count": 10,
   "metadata": {},
   "outputs": [],
   "source": [
    "new_train_data=train_data/255.0\n",
    "new_test_data=train_data/255.0\n",
    "#normalizing- images by dividing 255"
   ]
  },
  {
   "cell_type": "code",
   "execution_count": 13,
   "metadata": {},
   "outputs": [
    {
     "name": "stdout",
     "output_type": "stream",
     "text": [
      "[5 0 4 1 9]\n",
      "[[0. 0. 0. 0. 0. 1. 0. 0. 0. 0.]\n",
      " [1. 0. 0. 0. 0. 0. 0. 0. 0. 0.]\n",
      " [0. 0. 0. 0. 1. 0. 0. 0. 0. 0.]\n",
      " [0. 1. 0. 0. 0. 0. 0. 0. 0. 0.]\n",
      " [0. 0. 0. 0. 0. 0. 0. 0. 0. 1.]]\n"
     ]
    }
   ],
   "source": [
    "from keras.utils import np_utils\n",
    "\n",
    "new_train_target=np_utils.to_categorical(train_target)\n",
    "print(train_target[:5])\n",
    "print(new_train_target[:5])"
   ]
  },
  {
   "cell_type": "code",
   "execution_count": 15,
   "metadata": {},
   "outputs": [
    {
     "name": "stdout",
     "output_type": "stream",
     "text": [
      "Epoch 1/20\n",
      "60000/60000 [==============================] - 23s 392us/step - loss: 0.1964 - accuracy: 0.9395\n",
      "Epoch 2/20\n",
      "60000/60000 [==============================] - 22s 365us/step - loss: 0.0882 - accuracy: 0.9729\n",
      "Epoch 3/20\n",
      "60000/60000 [==============================] - 22s 375us/step - loss: 0.0629 - accuracy: 0.9808\n",
      "Epoch 4/20\n",
      "60000/60000 [==============================] - 22s 375us/step - loss: 0.0474 - accuracy: 0.9851\n",
      "Epoch 5/20\n",
      "60000/60000 [==============================] - 23s 377us/step - loss: 0.0381 - accuracy: 0.9880\n",
      "Epoch 6/20\n",
      "60000/60000 [==============================] - 22s 374us/step - loss: 0.0322 - accuracy: 0.9899\n",
      "Epoch 7/20\n",
      "60000/60000 [==============================] - 22s 372us/step - loss: 0.0284 - accuracy: 0.9911\n",
      "Epoch 8/20\n",
      "60000/60000 [==============================] - 23s 379us/step - loss: 0.0249 - accuracy: 0.9920\n",
      "Epoch 9/20\n",
      "60000/60000 [==============================] - 23s 378us/step - loss: 0.0225 - accuracy: 0.9928\n",
      "Epoch 10/20\n",
      "60000/60000 [==============================] - 23s 375us/step - loss: 0.0204 - accuracy: 0.9940\n",
      "Epoch 11/20\n",
      "60000/60000 [==============================] - 23s 380us/step - loss: 0.0197 - accuracy: 0.9940\n",
      "Epoch 12/20\n",
      "60000/60000 [==============================] - 23s 380us/step - loss: 0.0159 - accuracy: 0.9955\n",
      "Epoch 13/20\n",
      "60000/60000 [==============================] - 23s 380us/step - loss: 0.0170 - accuracy: 0.9951\n",
      "Epoch 14/20\n",
      "60000/60000 [==============================] - 22s 371us/step - loss: 0.0162 - accuracy: 0.9954\n",
      "Epoch 15/20\n",
      "60000/60000 [==============================] - 23s 376us/step - loss: 0.0140 - accuracy: 0.9964\n",
      "Epoch 16/20\n",
      "60000/60000 [==============================] - 23s 383us/step - loss: 0.0133 - accuracy: 0.9963\n",
      "Epoch 17/20\n",
      "60000/60000 [==============================] - 23s 380us/step - loss: 0.0132 - accuracy: 0.9963\n",
      "Epoch 18/20\n",
      "60000/60000 [==============================] - 23s 379us/step - loss: 0.0132 - accuracy: 0.9961\n",
      "Epoch 19/20\n",
      "60000/60000 [==============================] - 23s 376us/step - loss: 0.0124 - accuracy: 0.9967\n",
      "Epoch 20/20\n",
      "60000/60000 [==============================] - 23s 375us/step - loss: 0.0124 - accuracy: 0.9968\n"
     ]
    }
   ],
   "source": [
    "train_infor=model.fit(new_train_data,new_train_target,epochs=20)"
   ]
  },
  {
   "cell_type": "code",
   "execution_count": 17,
   "metadata": {},
   "outputs": [
    {
     "data": {
      "image/png": "[encoded data removed]",
      "text/plain": [
       "<Figure size 432x288 with 1 Axes>"
      ]
     },
     "metadata": {
      "needs_background": "light"
     },
     "output_type": "display_data"
    }
   ],
   "source": [
    "from matplotlib  import pyplot as plt\n",
    "\n",
    "plt.plot(train_infor.history['loss'])\n",
    "plt.xlabel('# epochs')\n",
    "plt.xlabel('loss')\n",
    "plt.show()"
   ]
  },
  {
   "cell_type": "code",
   "execution_count": 19,
   "metadata": {},
   "outputs": [
    {
     "data": {
      "image/png": "[encoded data removed]",
      "text/plain": [
       "<Figure size 432x288 with 1 Axes>"
      ]
     },
     "metadata": {
      "needs_background": "light"
     },
     "output_type": "display_data"
    }
   ],
   "source": [
    "plt.plot(train_infor.history['accuracy'])\n",
    "plt.xlabel('# epochs')\n",
    "plt.xlabel('accuracy')\n",
    "plt.show()"
   ]
  },
  {
   "cell_type": "code",
   "execution_count": null,
   "metadata": {},
   "outputs": [],
   "source": []
  }
 ],
 "metadata": {
  "kernelspec": {
   "display_name": "Python 3",
   "language": "python",
   "name": "python3"
  },
  "language_info": {
   "codemirror_mode": {
    "name": "ipython",
    "version": 3
   },
   "file_extension": ".py",
   "mimetype": "text/x-python",
   "name": "python",
   "nbconvert_exporter": "python",
   "pygments_lexer": "ipython3",
   "version": "3.7.4"
  }
 },
 "nbformat": 4,
 "nbformat_minor": 2
}
